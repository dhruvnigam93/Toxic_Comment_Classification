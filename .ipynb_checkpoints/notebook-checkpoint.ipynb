{
 "cells": [
  {
   "cell_type": "markdown",
   "metadata": {},
   "source": [
    "# Toxic Comment challenge\n",
    "This is an NLP based binary classification problem. I plan to use a variety of approaches to solve the problem ranging from classical methods to more advance deep learning based methods. My primary objective is to learn how to efficiently represent text in a form amenable to application of ML techniques. Some of the methods I explore are - \n",
    "\n",
    "1. Bag of words\n",
    "2. TF-IDF vectors\n",
    "3. Using pre-Learned word Embeddings - GLOVE\n",
    "4. Effectively using GLOVE for paragraph representations\n",
    "\n",
    "The data set used is from a challenge hostedon kaggle by google. The data set contains a large number of user comments that have been labeled(binary) by humans for toxic behaviour. The objective is to learn a model from this labelled data that can identify toxic behaviour in commnet text.\n",
    "\n",
    "## EDA"
   ]
  },
  {
   "cell_type": "code",
   "execution_count": 298,
   "metadata": {},
   "outputs": [
    {
     "data": {
      "text/html": [
       "<div>\n",
       "<style scoped>\n",
       "    .dataframe tbody tr th:only-of-type {\n",
       "        vertical-align: middle;\n",
       "    }\n",
       "\n",
       "    .dataframe tbody tr th {\n",
       "        vertical-align: top;\n",
       "    }\n",
       "\n",
       "    .dataframe thead th {\n",
       "        text-align: right;\n",
       "    }\n",
       "</style>\n",
       "<table border=\"1\" class=\"dataframe\">\n",
       "  <thead>\n",
       "    <tr style=\"text-align: right;\">\n",
       "      <th></th>\n",
       "      <th>id</th>\n",
       "      <th>comment_text</th>\n",
       "      <th>toxic</th>\n",
       "      <th>severe_toxic</th>\n",
       "      <th>obscene</th>\n",
       "      <th>threat</th>\n",
       "      <th>insult</th>\n",
       "      <th>identity_hate</th>\n",
       "    </tr>\n",
       "  </thead>\n",
       "  <tbody>\n",
       "    <tr>\n",
       "      <th>0</th>\n",
       "      <td>0000997932d777bf</td>\n",
       "      <td>Explanation\\nWhy the edits made under my usern...</td>\n",
       "      <td>0</td>\n",
       "      <td>0</td>\n",
       "      <td>0</td>\n",
       "      <td>0</td>\n",
       "      <td>0</td>\n",
       "      <td>0</td>\n",
       "    </tr>\n",
       "    <tr>\n",
       "      <th>1</th>\n",
       "      <td>000103f0d9cfb60f</td>\n",
       "      <td>D'aww! He matches this background colour I'm s...</td>\n",
       "      <td>0</td>\n",
       "      <td>0</td>\n",
       "      <td>0</td>\n",
       "      <td>0</td>\n",
       "      <td>0</td>\n",
       "      <td>0</td>\n",
       "    </tr>\n",
       "    <tr>\n",
       "      <th>2</th>\n",
       "      <td>000113f07ec002fd</td>\n",
       "      <td>Hey man, I'm really not trying to edit war. It...</td>\n",
       "      <td>0</td>\n",
       "      <td>0</td>\n",
       "      <td>0</td>\n",
       "      <td>0</td>\n",
       "      <td>0</td>\n",
       "      <td>0</td>\n",
       "    </tr>\n",
       "    <tr>\n",
       "      <th>3</th>\n",
       "      <td>0001b41b1c6bb37e</td>\n",
       "      <td>\"\\nMore\\nI can't make any real suggestions on ...</td>\n",
       "      <td>0</td>\n",
       "      <td>0</td>\n",
       "      <td>0</td>\n",
       "      <td>0</td>\n",
       "      <td>0</td>\n",
       "      <td>0</td>\n",
       "    </tr>\n",
       "    <tr>\n",
       "      <th>4</th>\n",
       "      <td>0001d958c54c6e35</td>\n",
       "      <td>You, sir, are my hero. Any chance you remember...</td>\n",
       "      <td>0</td>\n",
       "      <td>0</td>\n",
       "      <td>0</td>\n",
       "      <td>0</td>\n",
       "      <td>0</td>\n",
       "      <td>0</td>\n",
       "    </tr>\n",
       "  </tbody>\n",
       "</table>\n",
       "</div>"
      ],
      "text/plain": [
       "                 id                                       comment_text  toxic  \\\n",
       "0  0000997932d777bf  Explanation\\nWhy the edits made under my usern...      0   \n",
       "1  000103f0d9cfb60f  D'aww! He matches this background colour I'm s...      0   \n",
       "2  000113f07ec002fd  Hey man, I'm really not trying to edit war. It...      0   \n",
       "3  0001b41b1c6bb37e  \"\\nMore\\nI can't make any real suggestions on ...      0   \n",
       "4  0001d958c54c6e35  You, sir, are my hero. Any chance you remember...      0   \n",
       "\n",
       "   severe_toxic  obscene  threat  insult  identity_hate  \n",
       "0             0        0       0       0              0  \n",
       "1             0        0       0       0              0  \n",
       "2             0        0       0       0              0  \n",
       "3             0        0       0       0              0  \n",
       "4             0        0       0       0              0  "
      ]
     },
     "execution_count": 298,
     "metadata": {},
     "output_type": "execute_result"
    }
   ],
   "source": [
    "import pandas as pd\n",
    "import numpy as np\n",
    "\n",
    "from sklearn.metrics import roc_auc_score \n",
    "\n",
    "from sklearn.feature_selection import SelectKBest\n",
    "from sklearn.feature_selection import f_classif\n",
    "\n",
    "all_data = pd.read_csv(\"train.csv\")\n",
    "\n",
    "all_data.head()"
   ]
  },
  {
   "cell_type": "markdown",
   "metadata": {},
   "source": [
    "- The 'id' column is a unique id identifying each row - this will not contribute to our model.\n",
    "- 'comment_text'is the actual text of the comment - the meat of the problem.\n",
    "- The rest of the the 6 columns are the tags that each identify wheater the 'comment_text' beongs to that category. For now, the only column of concern is the 'toxic' column\n",
    "\n",
    "The task is to build a model that given a comment can identify if it falls into the category 'toxic' or not."
   ]
  },
  {
   "cell_type": "code",
   "execution_count": 299,
   "metadata": {},
   "outputs": [
    {
     "data": {
      "text/plain": [
       "toxic           0.095844\n",
       "severe_toxic    0.009996\n",
       "obscene         0.052948\n",
       "threat          0.002996\n",
       "insult          0.049364\n",
       "dtype: float64"
      ]
     },
     "execution_count": 299,
     "metadata": {},
     "output_type": "execute_result"
    }
   ],
   "source": [
    "all_data.iloc[:,2:7].sum(axis = 0)/all_data.shape[0]"
   ]
  },
  {
   "cell_type": "markdown",
   "metadata": {},
   "source": [
    "Another interesting thing to note is that there are relatively few instances of toxic comments under each category. This indicates a class imblalance -something that needs to be kept in mind while building and evaluating the classification model.\n",
    "\n",
    "There may be interesting relations between the multiple independednt binary variables. Below I explore the similarity of the catogories in the train data using Jaccards coefficient - a simple metric to calculated similarity between binary varibles."
   ]
  },
  {
   "cell_type": "code",
   "execution_count": 300,
   "metadata": {},
   "outputs": [],
   "source": [
    "def cumpute_jaccard(x,y):\n",
    "    count_df= pd.crosstab(x, y)\n",
    "    jaccard = count_df.iloc[1,1] / ( count_df.iloc[0,1] +  count_df.iloc[1,1] + count_df.iloc[1,0])\n",
    "    return jaccard"
   ]
  },
  {
   "cell_type": "code",
   "execution_count": 301,
   "metadata": {},
   "outputs": [
    {
     "data": {
      "text/html": [
       "<div>\n",
       "<style scoped>\n",
       "    .dataframe tbody tr th:only-of-type {\n",
       "        vertical-align: middle;\n",
       "    }\n",
       "\n",
       "    .dataframe tbody tr th {\n",
       "        vertical-align: top;\n",
       "    }\n",
       "\n",
       "    .dataframe thead th {\n",
       "        text-align: right;\n",
       "    }\n",
       "</style>\n",
       "<table border=\"1\" class=\"dataframe\">\n",
       "  <thead>\n",
       "    <tr style=\"text-align: right;\">\n",
       "      <th></th>\n",
       "      <th>toxic</th>\n",
       "      <th>severe_toxic</th>\n",
       "      <th>obscene</th>\n",
       "      <th>threat</th>\n",
       "      <th>insult</th>\n",
       "    </tr>\n",
       "  </thead>\n",
       "  <tbody>\n",
       "    <tr>\n",
       "      <th>toxic</th>\n",
       "      <td>1.000000</td>\n",
       "      <td>0.104289</td>\n",
       "      <td>0.501106</td>\n",
       "      <td>0.029302</td>\n",
       "      <td>0.464017</td>\n",
       "    </tr>\n",
       "    <tr>\n",
       "      <th>severe_toxic</th>\n",
       "      <td>0.104289</td>\n",
       "      <td>1.000000</td>\n",
       "      <td>0.177905</td>\n",
       "      <td>0.057114</td>\n",
       "      <td>0.169238</td>\n",
       "    </tr>\n",
       "    <tr>\n",
       "      <th>obscene</th>\n",
       "      <td>0.501106</td>\n",
       "      <td>0.177905</td>\n",
       "      <td>1.000000</td>\n",
       "      <td>0.034895</td>\n",
       "      <td>0.605152</td>\n",
       "    </tr>\n",
       "    <tr>\n",
       "      <th>threat</th>\n",
       "      <td>0.029302</td>\n",
       "      <td>0.057114</td>\n",
       "      <td>0.034895</td>\n",
       "      <td>1.000000</td>\n",
       "      <td>0.038146</td>\n",
       "    </tr>\n",
       "    <tr>\n",
       "      <th>insult</th>\n",
       "      <td>0.464017</td>\n",
       "      <td>0.169238</td>\n",
       "      <td>0.605152</td>\n",
       "      <td>0.038146</td>\n",
       "      <td>1.000000</td>\n",
       "    </tr>\n",
       "  </tbody>\n",
       "</table>\n",
       "</div>"
      ],
      "text/plain": [
       "                 toxic  severe_toxic   obscene    threat    insult\n",
       "toxic         1.000000      0.104289  0.501106  0.029302  0.464017\n",
       "severe_toxic  0.104289      1.000000  0.177905  0.057114  0.169238\n",
       "obscene       0.501106      0.177905  1.000000  0.034895  0.605152\n",
       "threat        0.029302      0.057114  0.034895  1.000000  0.038146\n",
       "insult        0.464017      0.169238  0.605152  0.038146  1.000000"
      ]
     },
     "execution_count": 301,
     "metadata": {},
     "output_type": "execute_result"
    }
   ],
   "source": [
    "all_data.iloc[:,2:7].corr(method = cumpute_jaccard)\n"
   ]
  },
  {
   "cell_type": "markdown",
   "metadata": {},
   "source": [
    "There are some significant overlaps between the categories for sure. We may be able to build a better model if we take these overlaps into consideration. However, for now, I will ignore these and focus on building a model to identify 'toxic' comments.\n",
    "\n",
    "## Linear model to predict 'toxic' variable\n",
    "\n",
    "Starting simple. Fit a linear model to the comment text to predict the target binary variable 'toxic'.\n",
    "\n",
    "### Cleaning the text data\n",
    "\n",
    "1. Remove all punctuations (may be revisited because certain puctuations !,# might be helful to identify toxic behavior)\n",
    "2. Remove all non-alphabet info - likely will not be useful. For typos and non-english text - i will remove rarely occuring words in corpus during training.\n"
   ]
  },
  {
   "cell_type": "code",
   "execution_count": 302,
   "metadata": {},
   "outputs": [
    {
     "data": {
      "text/plain": [
       "'D\\'aww! He matches this background colour I\\'m seemingly stuck with. Thanks.  (talk) 21:51, January 11, 2016 (UTC)---Hey man, I\\'m really not trying to edit war. It\\'s just that this guy is constantly removing relevant information and talking to me through edits instead of my talk page. He seems to care more about the formatting than the actual info.---\"\\nMore\\nI can\\'t make any real suggestions on improvement - I wondered if the section statistics should be later on, or a subsection of \"\"types of accidents\"\"  -I think the references may need tidying so that they are all in the exact same format ie date format etc. I can do that later on, if no-one else does first - if you have any preferences for formatting style on references or want to do it yourself please let me know.\\n\\nThere appears to be a backlog on articles for review so I guess there may be a delay until a reviewer turns up. It\\'s listed in the relevant form eg Wikipedia:Good_article_nominations#Transport  \"---You, sir, are my hero. Any chance you remember what page that\\'s on?'"
      ]
     },
     "execution_count": 302,
     "metadata": {},
     "output_type": "execute_result"
    }
   ],
   "source": [
    "\"---\".join(all_data['comment_text'][1:5])"
   ]
  },
  {
   "cell_type": "code",
   "execution_count": 303,
   "metadata": {},
   "outputs": [],
   "source": [
    "# Cleaning the data\n",
    "import re\n",
    "\n",
    "def clean_text(text):\n",
    "    text_clean = re.sub( \"[/(){}\\[\\]\\|@,;:\\n]\" , \" \" ,text.lower()) ## replace punctuation by space\n",
    "    text_clean = re.sub( \"[^a-zA-Z\\s:]\" , \"\" ,text_clean) ## retain only text - remove all other charecters\n",
    "    return text_clean\n",
    "\n",
    "all_data['clean_comment_text'] = [clean_text(x) for x in all_data['comment_text']]\n"
   ]
  },
  {
   "cell_type": "code",
   "execution_count": 304,
   "metadata": {},
   "outputs": [],
   "source": [
    "# Splitting training and testing data at this point, 80:20\n",
    "\n",
    "from sklearn.model_selection import train_test_split\n",
    "train_data, test_data = train_test_split(all_data, test_size=0.2, random_state = 1)\n",
    "\n",
    "y_train = train_data['toxic']\n",
    "y_test = test_data['toxic']"
   ]
  },
  {
   "cell_type": "markdown",
   "metadata": {},
   "source": [
    "#### Word Count analysis"
   ]
  },
  {
   "cell_type": "code",
   "execution_count": 305,
   "metadata": {},
   "outputs": [
    {
     "data": {
      "image/png": "[encoded data removed]",
      "text/plain": [
       "<Figure size 432x288 with 1 Axes>"
      ]
     },
     "metadata": {
      "needs_background": "light"
     },
     "output_type": "display_data"
    }
   ],
   "source": [
    "import nltk, itertools\n",
    "tokenizer = nltk.tokenize.WhitespaceTokenizer()\n",
    "fdist = nltk.FreqDist(list(itertools.chain.from_iterable([tokenizer.tokenize(x) for x in train_data['clean_comment_text']])))\n",
    "fdist.plot(30 , cumulative=False , title = \"Word count - full corpus - most common\")\n",
    "\n"
   ]
  },
  {
   "cell_type": "code",
   "execution_count": 306,
   "metadata": {},
   "outputs": [
    {
     "data": {
      "image/png": "[encoded data removed]",
      "text/plain": [
       "<Figure size 432x288 with 1 Axes>"
      ]
     },
     "metadata": {
      "needs_background": "light"
     },
     "output_type": "display_data"
    }
   ],
   "source": [
    "fdist = nltk.FreqDist(list(itertools.chain.from_iterable([tokenizer.tokenize(x) for x in train_data['clean_comment_text'][train_data['toxic']==1]])))\n",
    "fdist.plot(30 , cumulative=False , title = \"Word count - toxic corpus - most common\")"
   ]
  },
  {
   "cell_type": "code",
   "execution_count": 307,
   "metadata": {},
   "outputs": [
    {
     "data": {
      "text/plain": [
       "[('elyrian', 1),\n",
       " ('unhurt', 1),\n",
       " ('meggie', 1),\n",
       " ('everett', 1),\n",
       " ('engineer', 1),\n",
       " ('subjected', 1),\n",
       " ('dealwrongdoing', 1),\n",
       " ('ponpon', 1),\n",
       " ('wrecking', 1),\n",
       " ('tanthony', 1),\n",
       " ('sandchigger', 1),\n",
       " ('juppiter', 1),\n",
       " ('escorrt', 1),\n",
       " ('caty', 1),\n",
       " ('yrgh', 1),\n",
       " ('snowfire', 1),\n",
       " ('vandalizer', 1),\n",
       " ('pleasedontdeletemyedits', 1),\n",
       " ('geographical', 1),\n",
       " ('hounded', 1),\n",
       " ('passiveaggressive', 1),\n",
       " ('peons', 1),\n",
       " ('wwthevergecom', 1),\n",
       " ('whyareeditorsleavingtheworldsbiggestencyclopedia', 1),\n",
       " ('parks', 1),\n",
       " ('warts', 1),\n",
       " ('fuku', 1),\n",
       " ('perpetual', 1),\n",
       " ('fountains', 1),\n",
       " ('edisontechcentercom', 1),\n",
       " ('xck', 1),\n",
       " ('spk', 1),\n",
       " ('changer', 1),\n",
       " ('meaningfulmeaning', 1),\n",
       " ('iti', 1),\n",
       " ('reddish', 1),\n",
       " ('aryour', 1),\n",
       " ('ticle', 1),\n",
       " ('redrose', 1),\n",
       " ('satin', 1),\n",
       " ('trevor', 1),\n",
       " ('tred', 1),\n",
       " ('oooooooooooooooooooooooooooo', 1),\n",
       " ('ooooooooooooooooooooooooooooooooooooooooooooooooooooo', 1),\n",
       " ('scoobydoo', 1),\n",
       " ('greekwarrior', 1),\n",
       " ('mysterion', 1),\n",
       " ('clyde', 1),\n",
       " ('concise', 1),\n",
       " ('pseudointellect', 1)]"
      ]
     },
     "execution_count": 307,
     "metadata": {},
     "output_type": "execute_result"
    }
   ],
   "source": [
    "# Least common words\n",
    "fdist.most_common()[-50:]"
   ]
  },
  {
   "cell_type": "markdown",
   "metadata": {},
   "source": [
    "As expected stop words are the most common in the whole corpus and even in the 'toxic' corpus. Also, typos and namedreferences are among the most infrequently accuring words. While training model, we will take care to exclude both these classes of words.\n",
    "\n",
    "### Bag of words"
   ]
  },
  {
   "cell_type": "code",
   "execution_count": 308,
   "metadata": {},
   "outputs": [],
   "source": [
    "from sklearn.feature_extraction.text import CountVectorizer\n",
    "vectorizerBow = CountVectorizer(ngram_range=(1,2), stop_words = 'english',max_features =5000, min_df = 50 , max_df = 0.99)\n",
    "\n",
    "X_train_bow = vectorizerBow.fit_transform(train_data['clean_comment_text'])\n",
    "X_test_bow = vectorizerBow.transform(test_data['clean_comment_text'])\n",
    "\n",
    "feature_names_bow = vectorizerBow.get_feature_names()\n"
   ]
  },
  {
   "cell_type": "code",
   "execution_count": 309,
   "metadata": {},
   "outputs": [],
   "source": [
    "def fitAndTestmodel(X_train , X_test, y_train, y_test):\n",
    "    logregModel = LogisticRegression(penalty = 'l2' , C = 1)\n",
    "    logregModel.fit(X_train,y_train)\n",
    "    predicted_y_test = logregModel.predict_proba(X_test)\n",
    "    rocauc = roc_auc_score(y_test ,predicted_y_test[:,1] )\n",
    "    print(\"ROC AUC Score -\" ,rocauc)\n",
    "    return "
   ]
  },
  {
   "cell_type": "code",
   "execution_count": 310,
   "metadata": {},
   "outputs": [
    {
     "name": "stdout",
     "output_type": "stream",
     "text": [
      "ROC AUC Score - 0.9448415722152508\n"
     ]
    }
   ],
   "source": [
    "fitAndTestmodel(X_train_bow , X_test_bow , y_train, y_test)\n"
   ]
  },
  {
   "cell_type": "code",
   "execution_count": 311,
   "metadata": {},
   "outputs": [
    {
     "name": "stdout",
     "output_type": "stream",
     "text": [
      "Most important features : article,cock,crap,fucked,fucking,idiots,motherfucker,prick,retard,ur\n"
     ]
    }
   ],
   "source": [
    "# Get most important features\n",
    "\n",
    "def printImportantFeatures(X_train,y_train,feature_names):\n",
    "    X_kbest = fvalue_selector.fit_transform(X_train, y_train)\n",
    "    feature_names.__len__()\n",
    "    y = fvalue_selector.get_support()\n",
    "    important_features = [x for x,i in zip(feature_names,y) if i]\n",
    "    print(\"Most important features :\" , \",\".join(important_features))\n",
    "    return\n",
    "\n",
    "printImportantFeatures(X_train_bow,y_train , feature_names_bow)"
   ]
  },
  {
   "cell_type": "markdown",
   "metadata": {},
   "source": [
    "### TF-IDF vectors"
   ]
  },
  {
   "cell_type": "code",
   "execution_count": 312,
   "metadata": {},
   "outputs": [],
   "source": [
    "from sklearn.feature_extraction.text import TfidfVectorizer\n",
    "\n",
    "# using 1 and 2 grams of words\n",
    "# uning l2 normalisation for feature vector of each document\n",
    "# removing stopwords\n",
    "# setting a cap on max features to speed up process and avoid over - fitting\n",
    "# removing too rarely occuring words which are probably typos or named references\n",
    "\n",
    "tfidf_vectorizer = TfidfVectorizer(ngram_range=(1,2), norm='l2', stop_words = 'english',max_features =5000, min_df = 50 , max_df = 0.99 ) \n",
    "\n",
    "X_train_tfidf = tfidf_vectorizer.fit_transform(train_data['clean_comment_text'])\n",
    "X_test_tfidf = tfidf_vectorizer.transform(test_data['clean_comment_text'])"
   ]
  },
  {
   "cell_type": "code",
   "execution_count": 313,
   "metadata": {},
   "outputs": [],
   "source": [
    "feature_names_tfidf = tfidf_vectorizer.get_feature_names()"
   ]
  },
  {
   "cell_type": "markdown",
   "metadata": {},
   "source": [
    "### Fit logistic model"
   ]
  },
  {
   "cell_type": "code",
   "execution_count": 314,
   "metadata": {},
   "outputs": [
    {
     "name": "stdout",
     "output_type": "stream",
     "text": [
      "ROC AUC Score - 0.9614729260004594\n",
      "Most important features : ass,asshole,bitch,dick,fuck,fucking,idiot,shit,stupid,suck\n"
     ]
    }
   ],
   "source": [
    "fitAndTestmodel(X_train_tfidf , X_test_tfidf , y_train, y_test)\n",
    "\n",
    "printImportantFeatures(X_train_tfidf,y_train , feature_names_tfidf)"
   ]
  },
  {
   "cell_type": "markdown",
   "metadata": {},
   "source": [
    "Our relatively simple model using basic tf-idf features does well. Also note that among the 10 most important features - all are words that are umm... toxic. This demostrates why it is a better approach that bow.\n",
    "\n",
    "The model does well also perhaps because the mere presence of certain unigrams correlates very well with the cooment being toxic - something that might not work if the information we needed was much more subtle. It would be interesting to see if learning dense vector representations ccould improve this performance.\n",
    "\n",
    "### GLOVE features\n",
    "\n",
    "Now let's try using the hard work of the good people at Stanford. They have made available vector reprenstations of words - which have been learned in an unsupervised way over a large corpus. "
   ]
  },
  {
   "cell_type": "code",
   "execution_count": 315,
   "metadata": {},
   "outputs": [],
   "source": [
    "## Tokenizing uning previously used whitespace tokenizer from nltk\n",
    "train_data['clean_comment_text_tokenized'] = [tokenizer.tokenize(x) for x in train_data['clean_comment_text']]\n",
    "test_data['clean_comment_text_tokenized'] = [tokenizer.tokenize(x) for x in test_data['clean_comment_text']]"
   ]
  },
  {
   "cell_type": "code",
   "execution_count": 316,
   "metadata": {},
   "outputs": [],
   "source": [
    "import gensim"
   ]
  },
  {
   "cell_type": "code",
   "execution_count": 317,
   "metadata": {},
   "outputs": [],
   "source": [
    "#from gensim.scripts.glove2word2vec import glove2word2vec\n",
    "#glove_input_file = 'glove.6B.100d.txt'\n",
    "#word2vec_output_file = 'word2vec.txt'\n",
    "#glove2word2vec(glove_input_file, word2vec_output_file)"
   ]
  },
  {
   "cell_type": "code",
   "execution_count": 318,
   "metadata": {},
   "outputs": [],
   "source": [
    "# Loading the glove model from disk\n",
    "from gensim.models import KeyedVectors\n",
    "filename = 'word2vec.txt' #dowloaded model file - converted into word2vec format\n",
    "glove_model = KeyedVectors.load_word2vec_format(filename, binary=False) #load glove model into RAM"
   ]
  },
  {
   "cell_type": "code",
   "execution_count": 319,
   "metadata": {},
   "outputs": [
    {
     "name": "stdout",
     "output_type": "stream",
     "text": [
      "The vector representation for 'the cat sat on the mat' is - \n",
      " [-7.7008998e-01  1.2073100e+00  8.5778999e-01 -1.6087000e+00\n",
      " -1.5735201e+00  2.0247800e+00 -1.9553199e-01  1.2699299e+00\n",
      " -7.3517299e-01 -1.5889711e+00  8.3257002e-01  6.3399598e-04\n",
      "  1.1765200e+00  2.2569002e-01  1.6922300e+00  4.9297997e-01\n",
      "  4.3902999e-01  8.0958605e-01 -1.8552998e-01 -1.7070899e+00\n",
      "  1.3461000e-01  1.2771699e+00  6.0156101e-01 -7.5835001e-01\n",
      "  1.9741200e+00  1.5423601e+00 -1.0521600e+00 -1.1438490e+00\n",
      " -4.0687019e-01  2.0985001e-01 -1.7286998e-01  6.6258156e-01\n",
      "  7.0366597e-01  3.7584999e-01  5.8648002e-01  1.2335500e+00\n",
      " -2.1295300e-01  1.9678899e+00  1.0941401e+00 -5.8835000e-01\n",
      " -6.0928005e-01  8.7169021e-02  9.8383999e-01 -1.5329900e+00\n",
      " -5.7173002e-01  1.5954000e-01 -2.5162599e+00  1.5406300e+00\n",
      "  8.1229001e-01 -6.8897325e-01 -1.1576816e+00 -4.9469000e-01\n",
      "  3.9929998e-01  2.5583701e+00 -1.0256200e+00 -3.0744500e+00\n",
      " -4.1704601e-01  7.0223999e-01  1.7904699e+00  5.0038999e-01\n",
      "  1.0677600e+00  1.6058490e+00 -3.5026002e-01  7.6813006e-01\n",
      "  7.2922999e-01  8.0419654e-01  1.3725700e+00 -4.0538001e-01\n",
      " -4.8859000e-01  9.4517505e-01 -1.3529700e+00  9.7538006e-01\n",
      "  7.9514360e-01 -6.9393003e-01 -9.6833003e-01  4.1580904e-01\n",
      " -8.4608197e-01 -3.1318900e-01  4.5210004e-01 -1.1456007e-01\n",
      "  2.1769002e-01 -1.6674401e+00  4.9176502e-01 -1.1013219e+00\n",
      " -1.1305650e+00 -1.3763500e+00 -5.3480044e-03 -2.8776300e-01\n",
      "  4.5715779e-01  1.2647200e+00  1.0083300e+00 -1.0072800e+00\n",
      "  6.0556006e-01  1.2257880e+00  3.2912999e-01  1.3447002e-01\n",
      "  2.0579994e-02 -1.4043000e-01  1.4917300e+00 -9.8721701e-01]\n"
     ]
    }
   ],
   "source": [
    "glove_vocab = glove_model.vocab\n",
    "from nltk.corpus import stopwords\n",
    "stop_words = set(stopwords.words('english'))\n",
    "\n",
    "def getGloveVector(sentence , model , vocab):\n",
    "    sentence = [x for x in sentence if x in vocab and x not in stop_words ] ## remove words not in dictionary and stop words\n",
    "    gv = np.zeros((1,100))\n",
    "    if(sentence.__len__() > 0):\n",
    "        gv = model.wv[sentence].sum(axis = 0)\n",
    "    return gv\n",
    "\n",
    "print(\"The vector representation for 'the cat sat on the mat' is - \\n\",getGloveVector( ['the', 'cat','sat', 'on','the', 'mat', ] , glove_model , glove_vocab )) "
   ]
  },
  {
   "cell_type": "code",
   "execution_count": 320,
   "metadata": {},
   "outputs": [],
   "source": [
    "\n",
    "def getGloveMatrix( corpus ,glove_model ,glove_vocab  ):\n",
    "    y = [getGloveVector(x , glove_model ,glove_vocab ) for x in corpus] # get vec representation for each sentence\n",
    "    X_glove = np.zeros(( corpus.shape[0] ,100))\n",
    "    for i in range(corpus.shape[0]):\n",
    "        X_glove[i,:] = y[i]\n",
    "        X_glove[i,:] = X_glove[i,:]/(np.linalg.norm(X_glove[i,:] , ord =2) + 1e-4) # normalize each text vector\n",
    "    return X_glove"
   ]
  },
  {
   "cell_type": "code",
   "execution_count": 321,
   "metadata": {},
   "outputs": [],
   "source": [
    "X_train_glove = getGloveMatrix(train_data['clean_comment_text_tokenized'] , glove_model , glove_vocab)\n",
    "X_test_glove = getGloveMatrix(test_data['clean_comment_text_tokenized'] , glove_model , glove_vocab)"
   ]
  },
  {
   "cell_type": "code",
   "execution_count": 322,
   "metadata": {},
   "outputs": [
    {
     "name": "stdout",
     "output_type": "stream",
     "text": [
      "ROC AUC Score - 0.9336660927302777\n"
     ]
    }
   ],
   "source": [
    "fitAndTestmodel(X_train_glove , X_test_glove , y_train, y_test)"
   ]
  },
  {
   "cell_type": "markdown",
   "metadata": {},
   "source": [
    "It seems like the performance is subpar compared to out tf-idf vectors. However, we use significantly less number of features - only 100. To get performance that is comparable - we have to use 1000 tf-idf features.\n",
    "Using higher dimentional word embeddings will probably make a better model."
   ]
  },
  {
   "cell_type": "markdown",
   "metadata": {},
   "source": [
    "### Hybrid approach - word vectors weighted by tifidf vectors\n",
    "So far - to get the glove embedding of a certain chunk of text - I have been adding the vector represntations of all words(which are also in the GOLVE vocab) in the text - . There are a couple of ways I think this could be made more efficient - \n",
    "\n",
    "1. Removing stop words and rare or infrequent words\n",
    "2. instead of adding word representatios of all words - use the TF-idf vector to weight the contribution of each word. This way - words with high tf-idf values for a certain text - have higher weight in the dense vector representation.\n"
   ]
  },
  {
   "cell_type": "code",
   "execution_count": 323,
   "metadata": {},
   "outputs": [
    {
     "name": "stdout",
     "output_type": "stream",
     "text": [
      "4023 out of 5000 most common corpus words(excluding stop words and too frequent words) in glove vocab\n"
     ]
    }
   ],
   "source": [
    "y = [i for i in range(feature_names.__len__()) if feature_names[i] in glove_vocab]\n",
    "print( y.__len__() ,\"out of 5000 most common corpus words(excluding stop words and too frequent words) in glove vocab\" )"
   ]
  },
  {
   "cell_type": "code",
   "execution_count": 324,
   "metadata": {},
   "outputs": [],
   "source": [
    "feature_names_gloveP = [feature_names[x] for x in y]\n",
    "word_vec_features = glove_model.wv[feature_names_gloveP]\n",
    "text_word_tfidf = X_train_tfidf[:,y]\n",
    "\n",
    "X_train_tfidf_glove = text_word_tfidf*word_vec_features\n",
    "X_test_tfidf_glove = X_test_tfidf[:,y]*word_vec_features"
   ]
  },
  {
   "cell_type": "code",
   "execution_count": 325,
   "metadata": {},
   "outputs": [
    {
     "name": "stdout",
     "output_type": "stream",
     "text": [
      "ROC AUC Score - 0.9279955739160318\n"
     ]
    }
   ],
   "source": [
    "fitAndTestmodel(X_train_tfidf_glove , X_test_tfidf_glove , y_train, y_test)"
   ]
  },
  {
   "cell_type": "markdown",
   "metadata": {},
   "source": [
    "The Tfidf weighted word vectors were not as effective as weights for glove word vectors. "
   ]
  },
  {
   "cell_type": "markdown",
   "metadata": {},
   "source": [
    "### A summary of results so far\n",
    "| Features | AUC ROC | feature dimentionality |\n",
    "| --- | --- | --- |\n",
    "| Bag of words |  0.944 | 5000 |\n",
    "| Tfidf vectors |  0.961 | 5000 |\n",
    "| Glove  |  0.933  | 100 |\n",
    "| Tfidf weighted Glove |  0.927 | 100 |"
   ]
  },
  {
   "cell_type": "markdown",
   "metadata": {},
   "source": []
  }
 ],
 "metadata": {
  "kernelspec": {
   "display_name": "Python 3",
   "language": "python",
   "name": "python3"
  },
  "language_info": {
   "codemirror_mode": {
    "name": "ipython",
    "version": 3
   },
   "file_extension": ".py",
   "mimetype": "text/x-python",
   "name": "python",
   "nbconvert_exporter": "python",
   "pygments_lexer": "ipython3",
   "version": "3.7.3"
  }
 },
 "nbformat": 4,
 "nbformat_minor": 2
}
