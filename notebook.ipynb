{
 "cells": [
  {
   "cell_type": "markdown",
   "metadata": {},
   "source": [
    "# Toxic Comment challenge\n",
    "This is an NLP based binary classification problem classification problem. I plan to use a variety of approaches to solve the problem rangin from classical methods to more advance deep learning based methods.\n",
    "\n",
    "## EDA"
   ]
  },
  {
   "cell_type": "code",
   "execution_count": 1,
   "metadata": {},
   "outputs": [
    {
     "data": {
      "text/html": [
       "<div>\n",
       "<style scoped>\n",
       "    .dataframe tbody tr th:only-of-type {\n",
       "        vertical-align: middle;\n",
       "    }\n",
       "\n",
       "    .dataframe tbody tr th {\n",
       "        vertical-align: top;\n",
       "    }\n",
       "\n",
       "    .dataframe thead th {\n",
       "        text-align: right;\n",
       "    }\n",
       "</style>\n",
       "<table border=\"1\" class=\"dataframe\">\n",
       "  <thead>\n",
       "    <tr style=\"text-align: right;\">\n",
       "      <th></th>\n",
       "      <th>id</th>\n",
       "      <th>comment_text</th>\n",
       "      <th>toxic</th>\n",
       "      <th>severe_toxic</th>\n",
       "      <th>obscene</th>\n",
       "      <th>threat</th>\n",
       "      <th>insult</th>\n",
       "      <th>identity_hate</th>\n",
       "    </tr>\n",
       "  </thead>\n",
       "  <tbody>\n",
       "    <tr>\n",
       "      <th>0</th>\n",
       "      <td>0000997932d777bf</td>\n",
       "      <td>Explanation\\nWhy the edits made under my usern...</td>\n",
       "      <td>0</td>\n",
       "      <td>0</td>\n",
       "      <td>0</td>\n",
       "      <td>0</td>\n",
       "      <td>0</td>\n",
       "      <td>0</td>\n",
       "    </tr>\n",
       "    <tr>\n",
       "      <th>1</th>\n",
       "      <td>000103f0d9cfb60f</td>\n",
       "      <td>D'aww! He matches this background colour I'm s...</td>\n",
       "      <td>0</td>\n",
       "      <td>0</td>\n",
       "      <td>0</td>\n",
       "      <td>0</td>\n",
       "      <td>0</td>\n",
       "      <td>0</td>\n",
       "    </tr>\n",
       "    <tr>\n",
       "      <th>2</th>\n",
       "      <td>000113f07ec002fd</td>\n",
       "      <td>Hey man, I'm really not trying to edit war. It...</td>\n",
       "      <td>0</td>\n",
       "      <td>0</td>\n",
       "      <td>0</td>\n",
       "      <td>0</td>\n",
       "      <td>0</td>\n",
       "      <td>0</td>\n",
       "    </tr>\n",
       "    <tr>\n",
       "      <th>3</th>\n",
       "      <td>0001b41b1c6bb37e</td>\n",
       "      <td>\"\\nMore\\nI can't make any real suggestions on ...</td>\n",
       "      <td>0</td>\n",
       "      <td>0</td>\n",
       "      <td>0</td>\n",
       "      <td>0</td>\n",
       "      <td>0</td>\n",
       "      <td>0</td>\n",
       "    </tr>\n",
       "    <tr>\n",
       "      <th>4</th>\n",
       "      <td>0001d958c54c6e35</td>\n",
       "      <td>You, sir, are my hero. Any chance you remember...</td>\n",
       "      <td>0</td>\n",
       "      <td>0</td>\n",
       "      <td>0</td>\n",
       "      <td>0</td>\n",
       "      <td>0</td>\n",
       "      <td>0</td>\n",
       "    </tr>\n",
       "  </tbody>\n",
       "</table>\n",
       "</div>"
      ],
      "text/plain": [
       "                 id                                       comment_text  toxic  \\\n",
       "0  0000997932d777bf  Explanation\\nWhy the edits made under my usern...      0   \n",
       "1  000103f0d9cfb60f  D'aww! He matches this background colour I'm s...      0   \n",
       "2  000113f07ec002fd  Hey man, I'm really not trying to edit war. It...      0   \n",
       "3  0001b41b1c6bb37e  \"\\nMore\\nI can't make any real suggestions on ...      0   \n",
       "4  0001d958c54c6e35  You, sir, are my hero. Any chance you remember...      0   \n",
       "\n",
       "   severe_toxic  obscene  threat  insult  identity_hate  \n",
       "0             0        0       0       0              0  \n",
       "1             0        0       0       0              0  \n",
       "2             0        0       0       0              0  \n",
       "3             0        0       0       0              0  \n",
       "4             0        0       0       0              0  "
      ]
     },
     "execution_count": 1,
     "metadata": {},
     "output_type": "execute_result"
    }
   ],
   "source": [
    "import pandas as pd\n",
    "import numpy as np\n",
    "\n",
    "train_data = pd.read_csv(\"train.csv\")\n",
    "\n",
    "train_data.head()"
   ]
  },
  {
   "cell_type": "markdown",
   "metadata": {},
   "source": [
    "- The 'id' column is a unique id identifying each row - this will not contribute to our model.\n",
    "- 'comment_text'is the actual text of the comment - the meat of the problem.\n",
    "- The ret of the the 6 columns are the tags that each identify wheater the 'comment_text' beongs to that category\n",
    "\n",
    "The task is to build a model that given a comment can identify which of the 6 categories it falls into."
   ]
  },
  {
   "cell_type": "code",
   "execution_count": 4,
   "metadata": {},
   "outputs": [
    {
     "data": {
      "text/plain": [
       "toxic           0.095844\n",
       "severe_toxic    0.009996\n",
       "obscene         0.052948\n",
       "threat          0.002996\n",
       "insult          0.049364\n",
       "dtype: float64"
      ]
     },
     "execution_count": 4,
     "metadata": {},
     "output_type": "execute_result"
    }
   ],
   "source": [
    "train_data.iloc[:,2:7].sum(axis = 0)/train_data.shape[0]"
   ]
  },
  {
   "cell_type": "markdown",
   "metadata": {},
   "source": [
    "Another interesting thing to note is that there are relatively few instances of toxic comments under each category. This indicates a class imblalance -something that needs to be kept in mind while building and evaluating the classification model.\n",
    "\n",
    "There may be interesting relations between the multiple independednt binary variables. Below I explore the similarity of the catogories in the train data using Jaccards coefficient - a simple metric to calculated similarity between binary varibles."
   ]
  },
  {
   "cell_type": "code",
   "execution_count": 23,
   "metadata": {},
   "outputs": [],
   "source": [
    "def cumpute_jaccard(x,y):\n",
    "    count_df= pd.crosstab(x, y)\n",
    "    jaccard = count_df.iloc[1,1] / ( count_df.iloc[0,1] +  count_df.iloc[1,1] + count_df.iloc[1,0])\n",
    "    return jaccard"
   ]
  },
  {
   "cell_type": "code",
   "execution_count": 24,
   "metadata": {},
   "outputs": [
    {
     "data": {
      "text/html": [
       "<div>\n",
       "<style scoped>\n",
       "    .dataframe tbody tr th:only-of-type {\n",
       "        vertical-align: middle;\n",
       "    }\n",
       "\n",
       "    .dataframe tbody tr th {\n",
       "        vertical-align: top;\n",
       "    }\n",
       "\n",
       "    .dataframe thead th {\n",
       "        text-align: right;\n",
       "    }\n",
       "</style>\n",
       "<table border=\"1\" class=\"dataframe\">\n",
       "  <thead>\n",
       "    <tr style=\"text-align: right;\">\n",
       "      <th></th>\n",
       "      <th>toxic</th>\n",
       "      <th>severe_toxic</th>\n",
       "      <th>obscene</th>\n",
       "      <th>threat</th>\n",
       "      <th>insult</th>\n",
       "    </tr>\n",
       "  </thead>\n",
       "  <tbody>\n",
       "    <tr>\n",
       "      <th>toxic</th>\n",
       "      <td>1.000000</td>\n",
       "      <td>0.104289</td>\n",
       "      <td>0.501106</td>\n",
       "      <td>0.029302</td>\n",
       "      <td>0.464017</td>\n",
       "    </tr>\n",
       "    <tr>\n",
       "      <th>severe_toxic</th>\n",
       "      <td>0.104289</td>\n",
       "      <td>1.000000</td>\n",
       "      <td>0.177905</td>\n",
       "      <td>0.057114</td>\n",
       "      <td>0.169238</td>\n",
       "    </tr>\n",
       "    <tr>\n",
       "      <th>obscene</th>\n",
       "      <td>0.501106</td>\n",
       "      <td>0.177905</td>\n",
       "      <td>1.000000</td>\n",
       "      <td>0.034895</td>\n",
       "      <td>0.605152</td>\n",
       "    </tr>\n",
       "    <tr>\n",
       "      <th>threat</th>\n",
       "      <td>0.029302</td>\n",
       "      <td>0.057114</td>\n",
       "      <td>0.034895</td>\n",
       "      <td>1.000000</td>\n",
       "      <td>0.038146</td>\n",
       "    </tr>\n",
       "    <tr>\n",
       "      <th>insult</th>\n",
       "      <td>0.464017</td>\n",
       "      <td>0.169238</td>\n",
       "      <td>0.605152</td>\n",
       "      <td>0.038146</td>\n",
       "      <td>1.000000</td>\n",
       "    </tr>\n",
       "  </tbody>\n",
       "</table>\n",
       "</div>"
      ],
      "text/plain": [
       "                 toxic  severe_toxic   obscene    threat    insult\n",
       "toxic         1.000000      0.104289  0.501106  0.029302  0.464017\n",
       "severe_toxic  0.104289      1.000000  0.177905  0.057114  0.169238\n",
       "obscene       0.501106      0.177905  1.000000  0.034895  0.605152\n",
       "threat        0.029302      0.057114  0.034895  1.000000  0.038146\n",
       "insult        0.464017      0.169238  0.605152  0.038146  1.000000"
      ]
     },
     "execution_count": 24,
     "metadata": {},
     "output_type": "execute_result"
    }
   ],
   "source": [
    "train_data.iloc[:,2:7].corr(method = cumpute_jaccard)\n"
   ]
  },
  {
   "cell_type": "markdown",
   "metadata": {},
   "source": [
    "There are some significant overlaps between the categories for sure. We may be able to build a better model if we take these overlaps into consideration. However, for now, I will ignore these and focus on building 6 mutually exclusive models - each to predict of a given comment falls into a specific category or not.\n",
    "\n",
    "## Linear model to predict 'toxic' variable\n",
    "\n",
    "Starting simple. Fit a linear model to the comment text to predict the target binary variable 'tixic'. Feature i will use - \n",
    "\n",
    "1. TF-IDF values for 1 grams and 2 grams of words\n",
    "2. VEctor representations of words from fastext trained unsing our corpus or pre-trained\n",
    "\n",
    "### Cleaning the text data\n",
    "\n",
    "Remove all punctuation, remove all non-alphabet info - likely will not be used. For typos and non-english text - i will remove too rarely occuring words in corpus during training.\n"
   ]
  },
  {
   "cell_type": "code",
   "execution_count": 27,
   "metadata": {},
   "outputs": [
    {
     "data": {
      "text/plain": [
       "'D\\'aww! He matches this background colour I\\'m seemingly stuck with. Thanks.  (talk) 21:51, January 11, 2016 (UTC)---Hey man, I\\'m really not trying to edit war. It\\'s just that this guy is constantly removing relevant information and talking to me through edits instead of my talk page. He seems to care more about the formatting than the actual info.---\"\\nMore\\nI can\\'t make any real suggestions on improvement - I wondered if the section statistics should be later on, or a subsection of \"\"types of accidents\"\"  -I think the references may need tidying so that they are all in the exact same format ie date format etc. I can do that later on, if no-one else does first - if you have any preferences for formatting style on references or want to do it yourself please let me know.\\n\\nThere appears to be a backlog on articles for review so I guess there may be a delay until a reviewer turns up. It\\'s listed in the relevant form eg Wikipedia:Good_article_nominations#Transport  \"---You, sir, are my hero. Any chance you remember what page that\\'s on?'"
      ]
     },
     "execution_count": 27,
     "metadata": {},
     "output_type": "execute_result"
    }
   ],
   "source": [
    "\"---\".join(train_data['comment_text'][1:5])"
   ]
  },
  {
   "cell_type": "code",
   "execution_count": 30,
   "metadata": {},
   "outputs": [
    {
     "data": {
      "text/plain": [
       "'daww he matches this background colour im seemingly stuck with thanks   talk     january     utc ---hey man  im really not trying to edit war its just that this guy is constantly removing relevant information and talking to me through edits instead of my talk page he seems to care more about the formatting than the actual info--- more i cant make any real suggestions on improvement  i wondered if the section statistics should be later on  or a subsection of types of accidents  i think the references may need tidying so that they are all in the exact same format ie date format etc i can do that later on  if noone else does first  if you have any preferences for formatting style on references or want to do it yourself please let me know  there appears to be a backlog on articles for review so i guess there may be a delay until a reviewer turns up its listed in the relevant form eg wikipedia goodarticlenominationstransport  ---you  sir  are my hero any chance you remember what page thats on'"
      ]
     },
     "execution_count": 30,
     "metadata": {},
     "output_type": "execute_result"
    }
   ],
   "source": [
    "# Cleaning the data\n",
    "import re\n",
    "\n",
    "def clean_text(text):\n",
    "    text_clean = re.sub( \"[/(){}\\[\\]\\|@,;:\\n]\" , \" \" ,text.lower()) ## replace punctuation by space\n",
    "    text_clean = re.sub( \"[^a-zA-Z\\s:]\" , \"\" ,text_clean) ## retain only text - remove all other charecters\n",
    "    return text_clean\n",
    "\n",
    "train_data['clean_comment_text'] = [clean_text(x) for x in train_data['comment_text']]\n"
   ]
  },
  {
   "cell_type": "code",
   "execution_count": 31,
   "metadata": {},
   "outputs": [],
   "source": [
    "# Splitting training and testing data at this point 80:20\n",
    "\n",
    "from sklearn.model_selection import train_test_split\n",
    "train_data, test_data = train_test_split(train_data, test_size=0.2, random_state = 1)\n"
   ]
  },
  {
   "cell_type": "markdown",
   "metadata": {},
   "source": [
    "#### Word Count analysis"
   ]
  },
  {
   "cell_type": "code",
   "execution_count": 41,
   "metadata": {},
   "outputs": [
    {
     "data": {
      "image/png": "[encoded data removed]",
      "text/plain": [
       "<Figure size 432x288 with 1 Axes>"
      ]
     },
     "metadata": {
      "needs_background": "light"
     },
     "output_type": "display_data"
    }
   ],
   "source": [
    "import nltk, itertools\n",
    "tokenizer = nltk.tokenize.WhitespaceTokenizer()\n",
    "fdist = nltk.FreqDist(list(itertools.chain.from_iterable([tokenizer.tokenize(x) for x in train_data['clean_comment_text']])))\n",
    "fdist.plot(30 , cumulative=False , title = \"Word count - full corpus - most common\")\n",
    "\n"
   ]
  },
  {
   "cell_type": "code",
   "execution_count": 44,
   "metadata": {},
   "outputs": [
    {
     "data": {
      "image/png": "[encoded data removed]",
      "text/plain": [
       "<Figure size 432x288 with 1 Axes>"
      ]
     },
     "metadata": {
      "needs_background": "light"
     },
     "output_type": "display_data"
    }
   ],
   "source": [
    "fdist = nltk.FreqDist(list(itertools.chain.from_iterable([tokenizer.tokenize(x) for x in train_data['clean_comment_text'][train_data['toxic']==1]])))\n",
    "fdist.plot(30 , cumulative=False , title = \"Word count - toxic corpus - most common\")"
   ]
  },
  {
   "cell_type": "code",
   "execution_count": 47,
   "metadata": {},
   "outputs": [
    {
     "data": {
      "text/plain": [
       "[('elyrian', 1),\n",
       " ('unhurt', 1),\n",
       " ('meggie', 1),\n",
       " ('everett', 1),\n",
       " ('engineer', 1),\n",
       " ('subjected', 1),\n",
       " ('dealwrongdoing', 1),\n",
       " ('ponpon', 1),\n",
       " ('wrecking', 1),\n",
       " ('tanthony', 1),\n",
       " ('sandchigger', 1),\n",
       " ('juppiter', 1),\n",
       " ('escorrt', 1),\n",
       " ('caty', 1),\n",
       " ('yrgh', 1),\n",
       " ('snowfire', 1),\n",
       " ('vandalizer', 1),\n",
       " ('pleasedontdeletemyedits', 1),\n",
       " ('geographical', 1),\n",
       " ('hounded', 1),\n",
       " ('passiveaggressive', 1),\n",
       " ('peons', 1),\n",
       " ('wwthevergecom', 1),\n",
       " ('whyareeditorsleavingtheworldsbiggestencyclopedia', 1),\n",
       " ('parks', 1),\n",
       " ('warts', 1),\n",
       " ('fuku', 1),\n",
       " ('perpetual', 1),\n",
       " ('fountains', 1),\n",
       " ('edisontechcentercom', 1),\n",
       " ('xck', 1),\n",
       " ('spk', 1),\n",
       " ('changer', 1),\n",
       " ('meaningfulmeaning', 1),\n",
       " ('iti', 1),\n",
       " ('reddish', 1),\n",
       " ('aryour', 1),\n",
       " ('ticle', 1),\n",
       " ('redrose', 1),\n",
       " ('satin', 1),\n",
       " ('trevor', 1),\n",
       " ('tred', 1),\n",
       " ('oooooooooooooooooooooooooooo', 1),\n",
       " ('ooooooooooooooooooooooooooooooooooooooooooooooooooooo', 1),\n",
       " ('scoobydoo', 1),\n",
       " ('greekwarrior', 1),\n",
       " ('mysterion', 1),\n",
       " ('clyde', 1),\n",
       " ('concise', 1),\n",
       " ('pseudointellect', 1)]"
      ]
     },
     "execution_count": 47,
     "metadata": {},
     "output_type": "execute_result"
    }
   ],
   "source": [
    "# Least common words\n",
    "fdist.most_common()[-50:]"
   ]
  },
  {
   "cell_type": "markdown",
   "metadata": {},
   "source": [
    "As expected stop words are the most common in the whole corpus and even in the 'toxic' corpus. Also, typos and references are among the most infrequently accuring words. While training TFidf vecotrs, we will take care to exclude both these classes of words.\n",
    "\n",
    "### TF-IDF vectors"
   ]
  },
  {
   "cell_type": "code",
   "execution_count": 72,
   "metadata": {},
   "outputs": [],
   "source": [
    "from sklearn.feature_extraction.text import TfidfVectorizer\n",
    "\n",
    "# using 1 and 2 grams of words\n",
    "# uning l2 normalisation for feature vector of each document\n",
    "# removing stopwords\n",
    "# setting a cap on max features to speed up process and avoind over - fitting\n",
    "# removing too rarely acuuring words which are probably typos or named references\n",
    "\n",
    "vectorizer = TfidfVectorizer(ngram_range=(1,2), norm='l2', stop_words = 'english',max_features =5000 , min_df = 50 , max_df = 0.99 ) \n",
    "\n",
    "x_train = vectorizer.fit_transform(train_data['clean_comment_text'])\n",
    "x_test = vectorizer.transform(test_data['clean_comment_text'])"
   ]
  },
  {
   "cell_type": "code",
   "execution_count": 77,
   "metadata": {},
   "outputs": [],
   "source": [
    "feature_names = vectorizer.get_feature_names()"
   ]
  },
  {
   "cell_type": "markdown",
   "metadata": {},
   "source": [
    "### Fit logistic model"
   ]
  },
  {
   "cell_type": "code",
   "execution_count": 73,
   "metadata": {},
   "outputs": [
    {
     "name": "stderr",
     "output_type": "stream",
     "text": [
      "/Users/dhruv/anaconda3/lib/python3.7/site-packages/sklearn/linear_model/logistic.py:433: FutureWarning: Default solver will be changed to 'lbfgs' in 0.22. Specify a solver to silence this warning.\n",
      "  FutureWarning)\n"
     ]
    },
    {
     "data": {
      "text/plain": [
       "LogisticRegression(C=1, class_weight=None, dual=False, fit_intercept=True,\n",
       "          intercept_scaling=1, max_iter=100, multi_class='warn',\n",
       "          n_jobs=None, penalty='l2', random_state=None, solver='warn',\n",
       "          tol=0.0001, verbose=0, warm_start=False)"
      ]
     },
     "execution_count": 73,
     "metadata": {},
     "output_type": "execute_result"
    }
   ],
   "source": [
    "y_train = train_data['toxic']\n",
    "y_test = test_data['toxic']\n",
    "\n",
    "from sklearn.linear_model import LogisticRegression\n",
    "\n",
    "logreg = LogisticRegression(penalty = 'l2' , C = 1)\n",
    "logreg.fit(x_train,y_train)\n"
   ]
  },
  {
   "cell_type": "code",
   "execution_count": 74,
   "metadata": {},
   "outputs": [
    {
     "data": {
      "text/plain": [
       "0.9614729260004594"
      ]
     },
     "execution_count": 74,
     "metadata": {},
     "output_type": "execute_result"
    }
   ],
   "source": [
    "predicted_y_test = logreg.predict_proba(x_test)\n",
    "\n",
    "from sklearn.metrics import accuracy_score\n",
    "from sklearn.metrics import f1_score\n",
    "from sklearn.metrics import roc_auc_score, confusion_matrix \n",
    "\n",
    "roc_auc_score(y_test ,predicted_y_test[:,1] )"
   ]
  },
  {
   "cell_type": "markdown",
   "metadata": {},
   "source": [
    "Our relatively simple model using basic tf-idf features does well. Perhaps because the mere presence of certain unigrams and 2 grams correlates well with the cooment being toxic. It would be interesting to see if learning dense vector represtiations ccould inprove this performance by using more comple features."
   ]
  },
  {
   "cell_type": "code",
   "execution_count": 78,
   "metadata": {},
   "outputs": [],
   "source": [
    "train_data['clean_comment_text_tokenized'] = [tokenizer.tokenize(x) for x in train_data['clean_comment_text']]"
   ]
  }
 ],
 "metadata": {
  "kernelspec": {
   "display_name": "Python 3",
   "language": "python",
   "name": "python3"
  },
  "language_info": {
   "codemirror_mode": {
    "name": "ipython",
    "version": 3
   },
   "file_extension": ".py",
   "mimetype": "text/x-python",
   "name": "python",
   "nbconvert_exporter": "python",
   "pygments_lexer": "ipython3",
   "version": "3.7.3"
  }
 },
 "nbformat": 4,
 "nbformat_minor": 2
}
